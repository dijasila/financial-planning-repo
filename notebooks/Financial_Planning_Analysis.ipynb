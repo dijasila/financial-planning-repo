{
 "cells": [
  {
   "cell_type": "code",
   "execution_count": null,
   "metadata": {},
   "outputs": [],
   "source": [
    "# Financial Planning Analysis\n",
    "\n",
    "## Introduction\n",
    "This notebook explores the financial planning process for a complex business organization.\n",
    "\n",
    "## Budget Modeling\n",
    "- Explain the budgeting process.\n",
    "- Import the `budget_model.py` module to run the budget analysis.\n",
    "\n",
    "## Visualization\n",
    "- Import the `visualize_financials.py` module to visualize the budget vs actual spending."
   ]
  }
 ],
 "metadata": {
  "language_info": {
   "name": "python"
  }
 },
 "nbformat": 4,
 "nbformat_minor": 2
}
